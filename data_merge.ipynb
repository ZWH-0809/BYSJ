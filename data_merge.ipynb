{
 "cells": [
  {
   "cell_type": "code",
   "execution_count": 49,
   "metadata": {},
   "outputs": [],
   "source": [
    "import numpy as np\n",
    "import pandas as pd\n",
    "import os\n",
    "import re\n",
    "\n",
    "def travel_file(path):\n",
    "    programs=['Chart','Lang','Math','Time']\n",
    "    address=list()\n",
    "    for prog in programs:\n",
    "        for root,dirs,files in os.walk(path+'/'+prog):\n",
    "            for dir in dirs:\n",
    "                \n",
    "                if re.match(r'[0-9]',dir):\n",
    "                    address.append(path+'/'+prog+'/'+dir)\n",
    "    return address\n",
    "\n",
    "def create_dir(path='./MergeData'):\n",
    "    programs=['Chart','Lang','Math','Time']\n",
    "    address=list()\n",
    "    for prog in programs:\n",
    "        for root,dirs,files in os.walk('SliceData'+'/'+prog):\n",
    "            for dir in dirs:\n",
    "                if re.match(r'[0-9]',dir):\n",
    "                    os.mkdir(path+'/'+prog+'/'+dir)\n",
    "    \n",
    "\n",
    "#合并数据\n",
    "def merge_data(org_path,sli_path,des_path):\n",
    "    m1=pd.read_excel(org_path+'/matrix.xlsx')\n",
    "    m2=pd.read_csv(sli_path+'/matrix.csv')\n",
    "    error=m1['error'].to_list()\n",
    "    matrix=pd.merge(m1,m2)\n",
    "    matrix=matrix.T.drop_duplicates().T\n",
    "    matrix.drop(matrix.columns[0],axis=1,inplace=True)\n",
    "    matrix['error']=error\n",
    "    matrix.to_excel(des_path+'/matrix.xlsx')\n",
    "    \n",
    "\n",
    "    \n",
    "\n"
   ]
  },
  {
   "cell_type": "code",
   "execution_count": 50,
   "metadata": {},
   "outputs": [],
   "source": [
    "sli_paths=travel_file('./SliceData')\n",
    "org_paths,des_paths=list(),list()\n",
    "for sli_path in sli_paths:\n",
    "    org_paths.append(sli_path.replace('./SliceData', './defects4j'))\n",
    "    des_paths.append(sli_path.replace('./SliceData', './MergeData'))\n",
    "\n",
    "\n",
    "for i,des_path in enumerate(des_paths):\n",
    "    merge_data(org_paths[i],sli_paths[i],des_path)\n",
    "    \n"
   ]
  }
 ],
 "metadata": {
  "interpreter": {
   "hash": "613fe122287fdb1a4092b1ec324ab5e18de9ec977608057b646301948d1df577"
  },
  "kernelspec": {
   "display_name": "Python 3.8.5 ('base')",
   "language": "python",
   "name": "python3"
  },
  "language_info": {
   "codemirror_mode": {
    "name": "ipython",
    "version": 3
   },
   "file_extension": ".py",
   "mimetype": "text/x-python",
   "name": "python",
   "nbconvert_exporter": "python",
   "pygments_lexer": "ipython3",
   "version": "3.8.5"
  },
  "orig_nbformat": 4
 },
 "nbformat": 4,
 "nbformat_minor": 2
}
