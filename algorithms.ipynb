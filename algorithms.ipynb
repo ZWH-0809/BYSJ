{
 "cells": [
  {
   "cell_type": "code",
   "execution_count": 33,
   "metadata": {},
   "outputs": [],
   "source": [
    "import numpy as np\n",
    "import pandas as pd\n",
    "import os\n",
    "import re\n",
    "import math\n",
    "\n",
    "def calculate_ochiai(data):\n",
    "    data.drop(data.columns[0],axis=1,inplace=True)\n",
    "    error=data['error'].to_list()\n",
    "    data.drop(data.columns[-1],axis=1,inplace=True)\n",
    "    ochs=list()\n",
    "    for j,col in data.iteritems():\n",
    "        Ncs=Ncf=Nf=0\n",
    "        for i in range(len(col)):\n",
    "            if col[i]==1:\n",
    "                if error[i]==1:Ncf+=1\n",
    "                else:Ncs+=1\n",
    "            if error[i]==1:Nf+=1\n",
    "\n",
    "        if math.sqrt(Nf*(Ncs+Ncf))==0:\n",
    "            och=float('inf')\n",
    "        else:och=Ncf/math.sqrt(Nf*(Ncs+Ncf))\n",
    "        ochs.append(och)\n",
    "        \n",
    "    data.loc['ochiai']=ochs\n",
    "    data=data.loc['ochiai',:].sort_values(ascending=False)\n",
    "    \n",
    "    return data\n",
    "\n",
    "def calculate_barinel(data):\n",
    "    data.drop(data.columns[0],axis=1,inplace=True)\n",
    "    error=data['error'].to_list()\n",
    "    data.drop(data.columns[-1],axis=1,inplace=True)\n",
    "    bars=list()\n",
    "    for j,col in data.iteritems():\n",
    "        Ncs=Ncf=Nf=0\n",
    "        for i in range(len(col)):\n",
    "            if col[i]==1:\n",
    "                if error[i]==1:Ncf+=1\n",
    "                else:Ncs+=1\n",
    "            if error[i]==1:Nf+=1\n",
    "\n",
    "        if (Ncs+Ncf)==0:\n",
    "            bar=float('inf')\n",
    "        else:bar=1-Ncs/(Ncs+Ncf)\n",
    "\n",
    "        bars.append(bar)\n",
    "        \n",
    "    data.loc['barinel']=bars\n",
    "    data=data.loc['barinel',:].sort_values(ascending=False)\n",
    "    \n",
    "    return data\n"
   ]
  },
  {
   "cell_type": "code",
   "execution_count": 34,
   "metadata": {},
   "outputs": [],
   "source": [
    "programs=['Chart','Lang','Math','Time']\n",
    "for prog in programs:  \n",
    "    for root,dirs,files in os.walk('./MergeData/'+prog):  \n",
    "        for dir in dirs:\n",
    "            if re.match(r'[0-9]',dir):\n",
    "                path='./MergeData/'+prog+'/'+dir+'/'\n",
    "                if os.path.exists(path):\n",
    "                    #os.rename(path+'susp.txt','./MergeData/'+prog+'/'+dir+'/dstar.txt')\n",
    "                    m1=pd.read_excel(path+'matrix.xlsx')\n",
    "                    barinel=calculate_barinel(m1)\n",
    "                    barinel.to_csv(path+'barinel.txt',header=None,sep='\\t')"
   ]
  },
  {
   "cell_type": "code",
   "execution_count": null,
   "metadata": {},
   "outputs": [],
   "source": []
  }
 ],
 "metadata": {
  "interpreter": {
   "hash": "613fe122287fdb1a4092b1ec324ab5e18de9ec977608057b646301948d1df577"
  },
  "kernelspec": {
   "display_name": "Python 3.8.5 ('base')",
   "language": "python",
   "name": "python3"
  },
  "language_info": {
   "codemirror_mode": {
    "name": "ipython",
    "version": 3
   },
   "file_extension": ".py",
   "mimetype": "text/x-python",
   "name": "python",
   "nbconvert_exporter": "python",
   "pygments_lexer": "ipython3",
   "version": "3.8.5"
  },
  "orig_nbformat": 4
 },
 "nbformat": 4,
 "nbformat_minor": 2
}
