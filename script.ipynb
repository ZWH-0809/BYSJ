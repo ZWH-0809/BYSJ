{
 "cells": [
  {
   "cell_type": "code",
   "execution_count": 4,
   "metadata": {},
   "outputs": [],
   "source": [
    "import numpy as np\n",
    "import pandas as pd\n",
    "import os\n",
    "import re\n",
    "import shutil\n",
    "#拆解降维后结果\n",
    "programs=['Chart','Lang','Math','Time']\n",
    "for prog in programs:  \n",
    "    for root,dirs,files in os.walk('./defects4j/'+prog):  \n",
    "        for dir in dirs:\n",
    "            if re.match(r'[0-9]',dir):\n",
    "                path='./defects4j/'+prog+'/'+dir+'/pca/'\n",
    "                if os.path.exists(path):\n",
    "                    shutil.copyfile(path+'dstar-pca.txt','./defects4j/'+prog+'/'+dir+'/dstar.txt')\n",
    "                    shutil.copyfile(path+'ochiai-pca.txt','./defects4j/'+prog+'/'+dir+'/ochiai.txt')\n",
    "                    shutil.copyfile(path+'barinel-pca.txt','./defects4j/'+prog+'/'+dir+'/barinel.txt')\n",
    "\n",
    "\n",
    "\n"
   ]
  },
  {
   "cell_type": "code",
   "execution_count": 5,
   "metadata": {},
   "outputs": [],
   "source": [
    "#拆解切片后结果\n",
    "programs=['Chart','Lang','Math','Time']\n",
    "for prog in programs:  \n",
    "    for root,dirs,files in os.walk('./SliceData/'+prog):  \n",
    "        for dir in dirs:\n",
    "            if re.match(r'[0-9]',dir):\n",
    "                path='./SliceData/'+prog+'/'+dir+'/origin/'\n",
    "                if os.path.exists(path):\n",
    "                    shutil.copyfile(path+'dstar-origin.txt','./SliceData/'+prog+'/'+dir+'/dstar.txt')\n",
    "                    shutil.copyfile(path+'ochiai-origin.txt','./SliceData/'+prog+'/'+dir+'/ochiai.txt')\n",
    "                    shutil.copyfile(path+'barinel-origin.txt','./SliceData/'+prog+'/'+dir+'/barinel.txt')"
   ]
  },
  {
   "cell_type": "code",
   "execution_count": 6,
   "metadata": {},
   "outputs": [],
   "source": [
    "#重命名\n",
    "programs=['Chart','Lang','Math','Time']\n",
    "for prog in programs:  \n",
    "    for root,dirs,files in os.walk('./MergeData/'+prog):  \n",
    "        for dir in dirs:\n",
    "            if re.match(r'[0-9]',dir):\n",
    "                path='./MergeData/'+prog+'/'+dir+'/'\n",
    "                if os.path.exists(path):\n",
    "                    os.rename(path+'susp.txt','./MergeData/'+prog+'/'+dir+'/dstar.txt')\n",
    "                    "
   ]
  },
  {
   "cell_type": "code",
   "execution_count": null,
   "metadata": {},
   "outputs": [],
   "source": [
    "#处理exam表格\n"
   ]
  }
 ],
 "metadata": {
  "interpreter": {
   "hash": "613fe122287fdb1a4092b1ec324ab5e18de9ec977608057b646301948d1df577"
  },
  "kernelspec": {
   "display_name": "Python 3.8.5 ('base')",
   "language": "python",
   "name": "python3"
  },
  "language_info": {
   "codemirror_mode": {
    "name": "ipython",
    "version": 3
   },
   "file_extension": ".py",
   "mimetype": "text/x-python",
   "name": "python",
   "nbconvert_exporter": "python",
   "pygments_lexer": "ipython3",
   "version": "3.8.5"
  },
  "orig_nbformat": 4
 },
 "nbformat": 4,
 "nbformat_minor": 2
}
