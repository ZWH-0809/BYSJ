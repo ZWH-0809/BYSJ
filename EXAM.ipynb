{
 "cells": [
  {
   "cell_type": "code",
   "execution_count": 14,
   "metadata": {},
   "outputs": [],
   "source": [
    "import numpy as np\n",
    "import pandas as pd\n",
    "import os\n",
    "import re\n",
    "\n",
    "#创建EXAM分数在一个数据集下\n",
    "def create_exam(dataset):\n",
    "    programs=['Chart','Lang','Math','Time']\n",
    "    \n",
    "    for prog in programs:\n",
    "        \n",
    "        for root,dirs,files in os.walk('./'+dataset+'/'+prog):\n",
    "            exam_list=list()\n",
    "            for dir in dirs:\n",
    "                if re.match(r'[0-9]',dir):\n",
    "                    path0='./'+dataset+'/'+prog+'/'+dir+'/barinel.txt'\n",
    "                    if not os.path.exists(path0):\n",
    "                        break \n",
    "                    susp=pd.read_csv('./'+dataset+'/'+prog+'/'+dir+'/barinel.txt',sep='  ',header=None,index_col=None)\n",
    "                    \n",
    "                    susp.columns=['loc','suspision']\n",
    "                    path='./'+dataset+'/'+prog+'/'+dir+'/bugline.txt'\n",
    "                    if not os.path.exists(path):\n",
    "                        break\n",
    "                    buglines=open(path,'r')\n",
    "                    bugs=list()\n",
    "                    for bugline in buglines:\n",
    "                        bugs.append(eval(bugline))\n",
    "                    len_susp=susp.shape[0]\n",
    "                    exams=[]\n",
    "                    idxs=susp[susp['loc'].isin(bugs)].index.to_list()\n",
    "                    if not idxs:\n",
    "                        exams.append(1)\n",
    "                    else:\n",
    "                        for idx in idxs:\n",
    "                            exams.append((idx+1)/len_susp)\n",
    "                    exam=np.mean(exams)\n",
    "                    exam_list.append([dir,exam])\n",
    "                    df=pd.DataFrame(exam_list,columns=['version','barinel-exam']).sort_values('barinel-exam')\n",
    "\n",
    "                    df.to_csv('./'+dataset+'/'+prog+'/barinel-exam.csv',index=False)             \n",
    "                    \n",
    "        print(prog+' Completed')\n",
    "    \n",
    "    print('Finish:'+dataset)\n",
    "\n",
    "                    "
   ]
  },
  {
   "cell_type": "code",
   "execution_count": 17,
   "metadata": {},
   "outputs": [
    {
     "name": "stderr",
     "output_type": "stream",
     "text": [
      "<ipython-input-14-ff21d729b301>:19: ParserWarning: Falling back to the 'python' engine because the 'c' engine does not support regex separators (separators > 1 char and different from '\\s+' are interpreted as regex); you can avoid this warning by specifying engine='python'.\n",
      "  susp=pd.read_csv('./'+dataset+'/'+prog+'/'+dir+'/barinel.txt',sep='  ',header=None,index_col=None)\n"
     ]
    },
    {
     "name": "stdout",
     "output_type": "stream",
     "text": [
      "Chart Completed\n",
      "Lang Completed\n",
      "Math Completed\n",
      "Time Completed\n",
      "Finish:SliceData\n"
     ]
    }
   ],
   "source": [
    "\n",
    "create_exam('SliceData')\n",
    "\n"
   ]
  },
  {
   "cell_type": "code",
   "execution_count": 16,
   "metadata": {},
   "outputs": [
    {
     "name": "stderr",
     "output_type": "stream",
     "text": [
      "<ipython-input-16-d88b74b9d281>:1: ParserWarning: Falling back to the 'python' engine because the 'c' engine does not support regex separators (separators > 1 char and different from '\\s+' are interpreted as regex); you can avoid this warning by specifying engine='python'.\n",
      "  susp=pd.read_csv('./'+'defects4j'+'/'+'Chart'+'/'+'3'+'/dstar.txt',sep='  ',header=None,index_col=None)\n"
     ]
    },
    {
     "data": {
      "text/html": [
       "<div>\n",
       "<style scoped>\n",
       "    .dataframe tbody tr th:only-of-type {\n",
       "        vertical-align: middle;\n",
       "    }\n",
       "\n",
       "    .dataframe tbody tr th {\n",
       "        vertical-align: top;\n",
       "    }\n",
       "\n",
       "    .dataframe thead th {\n",
       "        text-align: right;\n",
       "    }\n",
       "</style>\n",
       "<table border=\"1\" class=\"dataframe\">\n",
       "  <thead>\n",
       "    <tr style=\"text-align: right;\">\n",
       "      <th></th>\n",
       "      <th>loc</th>\n",
       "      <th>suspision</th>\n",
       "    </tr>\n",
       "  </thead>\n",
       "  <tbody>\n",
       "    <tr>\n",
       "      <th>0</th>\n",
       "      <td>1701050</td>\n",
       "      <td>1.0</td>\n",
       "    </tr>\n",
       "    <tr>\n",
       "      <th>1</th>\n",
       "      <td>1701053</td>\n",
       "      <td>1.0</td>\n",
       "    </tr>\n",
       "    <tr>\n",
       "      <th>2</th>\n",
       "      <td>1701056</td>\n",
       "      <td>1.0</td>\n",
       "    </tr>\n",
       "    <tr>\n",
       "      <th>3</th>\n",
       "      <td>1701057</td>\n",
       "      <td>1.0</td>\n",
       "    </tr>\n",
       "    <tr>\n",
       "      <th>4</th>\n",
       "      <td>1701058</td>\n",
       "      <td>1.0</td>\n",
       "    </tr>\n",
       "    <tr>\n",
       "      <th>...</th>\n",
       "      <td>...</td>\n",
       "      <td>...</td>\n",
       "    </tr>\n",
       "    <tr>\n",
       "      <th>835</th>\n",
       "      <td>1900061</td>\n",
       "      <td>0.0</td>\n",
       "    </tr>\n",
       "    <tr>\n",
       "      <th>836</th>\n",
       "      <td>1900062</td>\n",
       "      <td>0.0</td>\n",
       "    </tr>\n",
       "    <tr>\n",
       "      <th>837</th>\n",
       "      <td>2000094</td>\n",
       "      <td>0.0</td>\n",
       "    </tr>\n",
       "    <tr>\n",
       "      <th>838</th>\n",
       "      <td>2000105</td>\n",
       "      <td>0.0</td>\n",
       "    </tr>\n",
       "    <tr>\n",
       "      <th>839</th>\n",
       "      <td>2000106</td>\n",
       "      <td>0.0</td>\n",
       "    </tr>\n",
       "  </tbody>\n",
       "</table>\n",
       "<p>840 rows × 2 columns</p>\n",
       "</div>"
      ],
      "text/plain": [
       "         loc  suspision\n",
       "0    1701050        1.0\n",
       "1    1701053        1.0\n",
       "2    1701056        1.0\n",
       "3    1701057        1.0\n",
       "4    1701058        1.0\n",
       "..       ...        ...\n",
       "835  1900061        0.0\n",
       "836  1900062        0.0\n",
       "837  2000094        0.0\n",
       "838  2000105        0.0\n",
       "839  2000106        0.0\n",
       "\n",
       "[840 rows x 2 columns]"
      ]
     },
     "execution_count": 16,
     "metadata": {},
     "output_type": "execute_result"
    }
   ],
   "source": [
    "susp=pd.read_csv('./'+'defects4j'+'/'+'Chart'+'/'+'3'+'/dstar.txt',sep='  ',header=None,index_col=None)\n",
    "#susp.drop(susp.columns[1],axis=1,inplace=True)\n",
    "susp.columns=['loc','suspision']\n",
    "susp"
   ]
  }
 ],
 "metadata": {
  "interpreter": {
   "hash": "613fe122287fdb1a4092b1ec324ab5e18de9ec977608057b646301948d1df577"
  },
  "kernelspec": {
   "display_name": "Python 3.8.5 ('base')",
   "language": "python",
   "name": "python3"
  },
  "language_info": {
   "codemirror_mode": {
    "name": "ipython",
    "version": 3
   },
   "file_extension": ".py",
   "mimetype": "text/x-python",
   "name": "python",
   "nbconvert_exporter": "python",
   "pygments_lexer": "ipython3",
   "version": "3.8.5"
  },
  "orig_nbformat": 4
 },
 "nbformat": 4,
 "nbformat_minor": 2
}
